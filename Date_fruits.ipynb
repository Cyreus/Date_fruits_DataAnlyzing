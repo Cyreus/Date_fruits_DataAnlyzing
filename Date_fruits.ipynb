{
  "nbformat": 4,
  "nbformat_minor": 0,
  "metadata": {
    "colab": {
      "provenance": [],
      "toc_visible": true,
      "authorship_tag": "ABX9TyPB4gBB6U5V4eUmKBl/YcBE",
      "include_colab_link": true
    },
    "kernelspec": {
      "name": "python3",
      "display_name": "Python 3"
    },
    "language_info": {
      "name": "python"
    }
  },
  "cells": [
    {
      "cell_type": "markdown",
      "metadata": {
        "id": "view-in-github",
        "colab_type": "text"
      },
      "source": [
        "<a href=\"https://colab.research.google.com/github/Cyreus/Date_fruits_dataScience/blob/main/Date_fruits.ipynb\" target=\"_parent\"><img src=\"https://colab.research.google.com/assets/colab-badge.svg\" alt=\"Open In Colab\"/></a>"
      ]
    },
    {
      "cell_type": "code",
      "execution_count": null,
      "metadata": {
        "id": "_9Ty2yR6ZzTZ"
      },
      "outputs": [],
      "source": [
        "import numpy as np \n",
        "import pandas as pd \n",
        "from sklearn.preprocessing import LabelEncoder, StandardScaler, PolynomialFeatures\n",
        "from sklearn.model_selection import train_test_split\n",
        "from sklearn.preprocessing import OneHotEncoder\n",
        "from keras.models import Sequential  \n",
        "from keras.layers import Dense,Activation, Convolution2D, MaxPooling2D,Flatten \n",
        "import seaborn as sns\n",
        "import matplotlib.pyplot as plt\n",
        "from sklearn.preprocessing import LabelEncoder\n",
        "\n",
        "from keras.models import Sequential\n",
        "from keras.layers import Dense\n",
        "from keras.utils.vis_utils import plot_model\n",
        "\n",
        "df=pd.read_excel(\"/content/Date_Fruit_Datasets.xlsx\")\n",
        "df.head()\n",
        "df.info()\n",
        "\n",
        "\n",
        "df.describe()\n",
        "\n",
        "df['Class'].unique()\n",
        "\n",
        "plt.figure(figsize=(12,7))\n",
        "sns.countplot(x='Class', data=df)\n",
        "plt.show()\n",
        "\n",
        "labelencoder = LabelEncoder() \n",
        "df[\"Class\"] = labelencoder.fit_transform(df['Class'])\n",
        "df[\"Class\"].unique()\n",
        "df.head(10)\n",
        "from sklearn.preprocessing import StandardScaler,LabelBinarizer\n",
        "X = df.drop(columns='Class') \n",
        "y = df['Class']\n",
        "y=LabelBinarizer().fit_transform(y)\n",
        "train_x, test_x, train_y, test_y = train_test_split(X, y, test_size=0.20)\n",
        "\n",
        "model=Sequential()\n",
        "model.add(Dense(units = 7, input_dim=(34), activation='relu'))\n",
        "model.add(Dense(5, activation='relu'))\n",
        "model.add(Dense(10, activation='relu'))\n",
        "model.add(Dense(5, activation='relu'))\n",
        "model.add(Dense(7, activation='softmax'))\n",
        "model.summary()\n",
        "\n",
        "plot_model(model, to_file='model_plot.png', show_shapes=True, show_layer_names=True)\n",
        "\n",
        "plt.figure(figsize=(12,7))\n",
        "sns.scatterplot(x=\"AREA\" , y=\"PERIMETER\", hue='Class', data= df)\n",
        "\n",
        "model.compile(optimizer=\"adam\", loss='categorical_crossentropy', metrics=['accuracy'])\n",
        "\n",
        "cikis=model.fit(train_x, train_y, verbose=2, batch_size=5, epochs=100)\n"
      ]
    },
    {
      "cell_type": "code",
      "source": [
        "results = model.evaluate(test_x, test_y) \n",
        "\n",
        "print('Final test set loss: {:4f}'.format(results[0]))\n",
        "print('Final test set accuracy: {:4f}'.format(results[1]))\n",
        " \n",
        "plt.figure()\n",
        "plt.title('Model Başarısı')\n",
        "plt.ylabel('Doğruluk')\n",
        "plt.xlabel('Tur Sayısı')\n",
        "plt.plot(cikis.history[\"accuracy\"], label=\"Başarı Sonuçları\")\n",
        "\n",
        "plt.plot(cikis.history[\"loss\"],label=\"Eğitim Loss\")\n",
        "plt.legend()\n",
        "plt.show()\n",
        "\n",
        "y_pred = model.predict(test_x) \n",
        "y_test_class = np.argmax(test_y,axis=1) \n",
        "y_pred_class = np.argmax(y_pred,axis=1) \n",
        "\n",
        "print(\"Test Verileri:  \",y_test_class,\"\\nYSA Tahminleri: \",y_pred_class ) \n",
        "\n",
        "from sklearn.metrics import classification_report, confusion_matrix\n",
        "print(classification_report(y_test_class, y_pred_class)) \n",
        "cm = confusion_matrix(y_test_class, y_pred_class)\n",
        "print(cm)\n",
        "df_cm = pd.DataFrame(cm)\n",
        "heatmap = sns.heatmap(df_cm, annot=True, fmt=\"d\", cmap=\"Blues\")\n"
      ],
      "metadata": {
        "id": "RcEy6mDrQI4X"
      },
      "execution_count": null,
      "outputs": []
    }
  ]
}